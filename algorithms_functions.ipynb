{
  "nbformat": 4,
  "nbformat_minor": 0,
  "metadata": {
    "colab": {
      "provenance": []
    },
    "kernelspec": {
      "name": "python3",
      "display_name": "Python 3"
    },
    "language_info": {
      "name": "python"
    }
  },
  "cells": [
    {
      "cell_type": "code",
      "execution_count": null,
      "metadata": {
        "id": "7u6yTZH1Jy4s"
      },
      "outputs": [],
      "source": [
        "#libraries\n",
        "import numpy as np\n",
        "import math\n",
        "import matplotlib.pyplot as plt\n",
        "from scipy.stats import ortho_group"
      ]
    },
    {
      "cell_type": "code",
      "execution_count": null,
      "metadata": {
        "id": "IqNTeNkrEV5L"
      },
      "outputs": [],
      "source": [
        "# n is population size and d is the dimension\n",
        "#def h_gaussian(n, d):\n",
        "#  coordinates = np.random.normal(0, 1, (n, d))\n",
        "#  h = coordinates / np.linalg.norm(coordinates)\n",
        "#  return h\n",
        "\n",
        "def h_gaussian(n, d):\n",
        "    coordinates = np.random.normal(0, 1, (n, d))\n",
        "    h = coordinates / np.linalg.norm(coordinates, axis=1, keepdims=True)\n",
        "    return h\n",
        "\n",
        "#def h_RndCoordinates(n, d):\n",
        "#  rnd_state = np.random.RandomState()\n",
        "#  coordinates = rnd_state.uniform(-1,1,(n,d))\n",
        "#  h = coordinates / np.linalg.norm(coordinates)\n",
        "#  return h\n",
        "\n",
        "def h_RndCoordinates(n, d):\n",
        "    rnd_state = np.random.RandomState()\n",
        "    coordinates = rnd_state.uniform(-1, 1, (n, d))  # Uniform random numbers\n",
        "    h = coordinates / np.linalg.norm(coordinates, axis=1, keepdims=True)  # Normalize row-wise\n",
        "    return h\n",
        "\n",
        "def h_spherical(n, d):\n",
        "  rnd_state = np.random.RandomState()\n",
        "  theta = rnd_state.uniform(0, np.pi, size=(n, d-1))\n",
        "  phi = rnd_state.uniform(0, 2 * np.pi, size=(n, d-1))\n",
        "  coordinates = np.sin(theta) * np.cos(phi)\n",
        "  remaining_component = np.prod(np.cos(theta), axis=1)\n",
        "  h = np.concatenate((coordinates, remaining_component[:, np.newaxis]), axis=1)\n",
        "  magnitudes = np.linalg.norm(h, axis=1)\n",
        "  normalized_directions = h / magnitudes[:, np.newaxis]\n",
        "  return normalized_directions\n",
        "\n",
        "#def h_orthonormal(n, d): #n<=d\n",
        "#  if (n> d):\n",
        "#    raise ValueError(\"n must be less than or equal to d\")\n",
        "#  x = ortho_group.rvs(d)\n",
        "#  h = x[:n]/np.linalg.norm(x[:n])\n",
        "#  return h\n",
        "\n",
        "\n",
        "def h_orthonormal(n, d):  # n <= d\n",
        "    if n > d:\n",
        "        raise ValueError(\"n must be less than or equal to d\")\n",
        "    x = ortho_group.rvs(d)  # Generate a random orthogonal matrix\n",
        "    return x[:n]  # Extract and return the first n rows (which are already orthonormal)\n",
        "\n"
      ]
    },
    {
      "cell_type": "code",
      "source": [
        "# n is population size and d is the dimension\n",
        "#def h_gaussian(n, d):\n",
        "#  coordinates = np.random.normal(0, 1, (n, d))\n",
        "#  h = coordinates / np.linalg.norm(coordinates)\n",
        "#  return h\n",
        "\n",
        "def h_gaussian(n, d):\n",
        "    coordinates = np.random.normal(0, 1, (n, d))\n",
        "    h = coordinates / np.linalg.norm(coordinates, axis=1, keepdims=True)\n",
        "    return h\n",
        "\n",
        "#def h_RndCoordinates(n, d):\n",
        "#  rnd_state = np.random.RandomState()\n",
        "#  coordinates = rnd_state.uniform(-1,1,(n,d))\n",
        "#  h = coordinates / np.linalg.norm(coordinates)\n",
        "#  return h\n",
        "\n",
        "def h_RndCoordinates(n, d):\n",
        "    rnd_state = np.random.RandomState()\n",
        "    coordinates = rnd_state.uniform(-1, 1, (n, d))  # Uniform random numbers\n",
        "    h = coordinates / np.linalg.norm(coordinates, axis=1, keepdims=True)  # Normalize row-wise\n",
        "    return h\n",
        "\n",
        "def h_spherical(n, d):\n",
        "  rnd_state = np.random.RandomState()\n",
        "  theta = rnd_state.uniform(0, np.pi, size=(n, d-1))\n",
        "  phi = rnd_state.uniform(0, 2 * np.pi, size=(n, d-1))\n",
        "  coordinates = np.sin(theta) * np.cos(phi)\n",
        "  remaining_component = np.prod(np.cos(theta), axis=1)\n",
        "  h = np.concatenate((coordinates, remaining_component[:, np.newaxis]), axis=1)\n",
        "  magnitudes = np.linalg.norm(h, axis=1)\n",
        "  normalized_directions = h / magnitudes[:, np.newaxis]\n",
        "  return normalized_directions\n",
        "\n",
        "#def h_orthonormal(n, d): #n<=d\n",
        "#  if (n> d):\n",
        "#    raise ValueError(\"n must be less than or equal to d\")\n",
        "#  x = ortho_group.rvs(d)\n",
        "#  h = x[:n]/np.linalg.norm(x[:n])\n",
        "#  return h\n",
        "\n",
        "\n",
        "def h_orthonormal(n, d):  # n <= d\n",
        "    if n > d:\n",
        "        raise ValueError(\"n must be less than or equal to d\")\n",
        "    x = ortho_group.rvs(d)  # Generate a random orthogonal matrix\n",
        "    return x[:n]  # Extract and return the first n rows (which are already orthonormal)\n",
        "\n"
      ],
      "metadata": {
        "id": "o4le6eXyEpQ7"
      },
      "execution_count": null,
      "outputs": []
    },
    {
      "cell_type": "code",
      "execution_count": null,
      "metadata": {
        "id": "-ITQSQn2r-m1"
      },
      "outputs": [],
      "source": [
        "class f_reached_minus_infinity(Exception):\n",
        "    pass\n",
        "\n",
        "class target_class_reached_highest_probability(Exception):\n",
        "    pass\n",
        "\n",
        "#g(x)\n",
        "def g(x, f, h, alpha, n):\n",
        "  print(\"this is the new g\")\n",
        "  S = 0\n",
        "  d = x.shape[0]\n",
        "  h1 = h(n,d).copy()\n",
        "  try:\n",
        "    for i in range(n):\n",
        "      S = S + ((f(x + alpha * h1[i]) - f(x)) / alpha) * h1[i]\n",
        "    return d/n * S\n",
        "  except(f_reached_minus_infinity) as e:\n",
        "    raise\n",
        "  except(target_class_reached_highest_probability) as e:\n",
        "    raise\n",
        "\n",
        "#returns x^k and the values of f(x^i) for i in 1...k\n",
        "def zero_order(x0, f, alpha, gamma, k, h, n):\n",
        "  x= x0.copy();\n",
        "  f_x_i = []\n",
        "  x_i=[]\n",
        "  for _ in range(k):\n",
        "    try:\n",
        "      x= x - gamma * g(x, f, h, alpha, n)\n",
        "      x_i.append(x)\n",
        "      f_x_i.append(f(x))\n",
        "      print(\"now we are in zero order:\")\n",
        "      print(x)\n",
        "      print(f(x))\n",
        "      print(\"now we are out\")\n",
        "    except(f_reached_minus_infinity) as e:\n",
        "      return x, x_i, f_x_i\n",
        "    except(target_class_reached_highest_probability) as e:\n",
        "      return x, x_i, f_x_i\n",
        "  return x, x_i, f_x_i\n",
        "\n",
        "def graduated_zero_order(x0, f, alpha, gamma, t, h, m, n):\n",
        "  x = x0.copy()\n",
        "  f_x_i = []\n",
        "  for i in range(m):\n",
        "    #one way for making alpha smaller is mulitplying it with a positive constant smaller than 1, like 0.5\n",
        "    alpha = alpha/2\n",
        "    for _ in range(t):\n",
        "      x= x - gamma * g(x, f, h, alpha, n)\n",
        "      f_x_i.append(f(x))\n",
        "  return x, f_x_i"
      ]
    },
    {
      "cell_type": "code",
      "execution_count": null,
      "metadata": {
        "id": "p_LEKx2e_t08"
      },
      "outputs": [],
      "source": [
        "#We randomly choose the center of the initial search distribution at average distance one from\n",
        "# the optimum and start with a radial search distribution of unit variance.\n",
        "def initial_mu_A(x_optimum):\n",
        "  unit_vector = np.random.randn(len(x_optimum))\n",
        "  unit_vector /= np.linalg.norm(unit_vector)\n",
        "  mu_initial = x_optimum + unit_vector\n",
        "  #Since we want a radial search distribution with unit variance along each dimension, we create an identity matrix for  covariance matrix, C. hence, A\n",
        "  #such that AA^T = C would also be an identity matrix\n",
        "  A_initial = np.eye(len(x_optimum))\n",
        "  return mu_initial, A_initial\n",
        "\n",
        "#here we give dimention d as an input since the the algorithm generates x0 itself\n",
        "def xnes (d,f, k, mu, A):\n",
        "  f_x_k_values = []\n",
        "  #sigma = np.array([[np.linalg.det(A)]])\n",
        "  sigma = abs(np.linalg.det(A))**(1/d)\n",
        "  B = np.array(A/sigma)\n",
        "# the n mentioned here has nothing to do with the n we used in implemention of directions.\n",
        "# here parent and offspring population are the same and are both equal to n.\n",
        "  n =  math.floor(4+3*np.log10(d))\n",
        "  eta_mu = np.array([[1]])\n",
        "  eta_sigma = np.array([[0.6 * (3+ np.log10(d))/(d*np.sqrt(d))]])\n",
        "  eta_B = np.array([[ 0.6 * (3+ np.log10(d))/(d*np.sqrt(d))]])\n",
        "  for _ in range(k):\n",
        "    z = h_gaussian(n, d)\n",
        "    x_tmp = sigma*B@z.T\n",
        "    x = x_tmp.T + mu\n",
        "    #finding the index i for which f(x_i) is most fitted(minimum or maimum depending on f).\n",
        "    #in our case we have to find x_i with the the smallest value for f(x_i)\n",
        "    values = np.apply_along_axis(f, 1, x)  # Calculate f(x_i) for each vector x_i\n",
        "    min_index = np.argmin(values)\n",
        "    f_x_k_values.append(f(x[min_index]))\n",
        "    u = np.zeros((n,1))\n",
        "    print(x)\n",
        "    print(\"\\n\")\n",
        "    for i in range(1, n + 1):\n",
        "      u[i - 1] = (np.maximum(0, np.log(n / 2 + 1) - np.log(i)) / sum(np.maximum(0, np.log(n / 2 + 1) - np.log(j)) for j in range(1, n + 1))) - (1 / n)\n",
        "    G_delta = sum(u[i]*z[i] for i in range(n))\n",
        "    G_M = sum(z[i]*z[i].T - np.identity(d) for i in range(n))\n",
        "    G_sigma = np.trace(G_M)/d\n",
        "    G_B = G_M - G_sigma*np.identity(d)\n",
        "    mu = mu + eta_mu * (sigma*B) @ G_delta\n",
        "    sigma = sigma*np.exp(eta_sigma/2*G_sigma)\n",
        "    B = B * np.exp(eta_B/2*G_B)\n",
        "  return x[min_index], f_x_k_values\n",
        "\n",
        "\n"
      ]
    },
    {
      "cell_type": "code",
      "execution_count": null,
      "metadata": {
        "id": "HDCdU5Mm9T_d"
      },
      "outputs": [],
      "source": [
        "# for all the functions below, x0 is a 1d numpy array"
      ]
    },
    {
      "cell_type": "code",
      "execution_count": null,
      "metadata": {
        "id": "ue-LCqQNl3Ig"
      },
      "outputs": [],
      "source": [
        "def ackley(x0):\n",
        "  a =20\n",
        "  b = 0.2\n",
        "  c = 2*math.pi\n",
        "  d = x0.size\n",
        "  return -a*math.exp(-b*math.sqrt((x0@x0.T)/d)) - math.exp(np.sum(np.cos(c*x0))/d) +a + math.exp(1)\n"
      ]
    },
    {
      "cell_type": "code",
      "execution_count": null,
      "metadata": {
        "id": "XpLDBlPZFE8j"
      },
      "outputs": [],
      "source": [
        "def Griewank (x0):\n",
        "  d = x0.size\n",
        "  p = 1\n",
        "  for i in range(1,d+1):\n",
        "    p = p * math.cos(x0[i-1]/math.sqrt(i))\n",
        "  return (x0@x0.T)/4000 -p +1\n",
        "\n",
        "#print (Griewank(np.array([0, 1, 2, 3])))"
      ]
    },
    {
      "cell_type": "code",
      "execution_count": null,
      "metadata": {
        "id": "bYVJsG-AIhzl"
      },
      "outputs": [],
      "source": [
        "def levy(x0):\n",
        "  d = x0.size\n",
        "  w = 1 + x0/4 -1/4\n",
        "  tmp = 0\n",
        "  for i in range(d-1):\n",
        "    tmp = tmp + ((w[i]-1)**2)*(1 + 10* (math.sin(math.pi*w[i]+1))**2)\n",
        "  return (math.sin(math.pi*w[0]))**2 + tmp + ((w[d-1] -1)**2)*(math.sin(2*math.pi*w[d-1])**2)\n",
        "\n",
        "#print(levy(np.array([2, 2, 2, 2])))"
      ]
    },
    {
      "cell_type": "code",
      "execution_count": null,
      "metadata": {
        "id": "Qtcg8FgZBV0P"
      },
      "outputs": [],
      "source": [
        "def Rastrigin(x0):\n",
        "  d = x0.size\n",
        "  tmp = 0\n",
        "  for i in range (d):\n",
        "    tmp = tmp + x0[i]**2 - 10*math.cos(2*math.pi*x0[i])\n",
        "  return 10*d + tmp\n",
        "\n",
        "#print(Rastrigin(np.array([2, 2, 2, 2])))"
      ]
    },
    {
      "cell_type": "code",
      "execution_count": null,
      "metadata": {
        "id": "in8Q4pV4EBLf"
      },
      "outputs": [],
      "source": [
        "def Schwefel(x0):\n",
        "  d = x0.size\n",
        "  tmp = 0\n",
        "  for i in range (d):\n",
        "    tmp = tmp + x0[i]*math.sin(math.sqrt(np.absolute(x0[i])))\n",
        "  return 418.9829*d - tmp\n",
        "\n",
        "#print(Schwefel(np.array([2, 2, 2, 2])))"
      ]
    },
    {
      "cell_type": "code",
      "execution_count": null,
      "metadata": {
        "id": "HIYQd7b2GQeC"
      },
      "outputs": [],
      "source": [
        "#convex\n",
        "def Rotated_Hyper_Ellipsoid(x0):\n",
        "  d = x0.size\n",
        "  tmp = 0\n",
        "  for i in range (d):\n",
        "    for j in range(i):\n",
        "      tmp = tmp + x0[j]**2\n",
        "  return tmp\n",
        "\n",
        "#print(Rotated_Hyper_Ellipsoid(np.array([2, 2, 2, 2])))"
      ]
    },
    {
      "cell_type": "code",
      "execution_count": null,
      "metadata": {
        "id": "TRk4wordQ2-O"
      },
      "outputs": [],
      "source": [
        "#convex\n",
        "def Sphere(x0):\n",
        "  return x0@x0.T"
      ]
    },
    {
      "cell_type": "code",
      "execution_count": null,
      "metadata": {
        "id": "bm9fLCIDzu4n"
      },
      "outputs": [],
      "source": [
        "def Sum_Different_Powers(x0):\n",
        "  d = x0.size\n",
        "  S = 0\n",
        "  for i in range(d):\n",
        "    S = S + (np.absolute(x0[i]))**(i+2)\n",
        "  return S"
      ]
    },
    {
      "cell_type": "code",
      "execution_count": null,
      "metadata": {
        "id": "2T9j9PZs18s4"
      },
      "outputs": [],
      "source": [
        "#convex\n",
        "def Sum_Squares(x0):\n",
        "  d = x0.size\n",
        "  S = 0\n",
        "  for i in range(d):\n",
        "    S = S + (i+1)*x0[i]*x0[i]\n",
        "  return S"
      ]
    },
    {
      "cell_type": "code",
      "execution_count": null,
      "metadata": {
        "id": "Q8wrYeDi6Gtk"
      },
      "outputs": [],
      "source": [
        "def Trid(x0):\n",
        "  d = x0.size\n",
        "  return (x0 - 1)@(x0 - 1) - np.delete(x0, 0)@np.delete(x0, d-1)"
      ]
    },
    {
      "cell_type": "code",
      "execution_count": null,
      "metadata": {
        "id": "zduFE7q1X_4L"
      },
      "outputs": [],
      "source": [
        "def Zakharov(x0):\n",
        "  d = x0.size\n",
        "  S = 0\n",
        "  for i in range(d):\n",
        "    S = S + 0.5 * (i + 1)* x0[i]\n",
        "  return np.sum(x0@x0.T + S**2 + S**4)\n",
        "\n",
        "#print(Zakharov(np.array([2, 2, 2, 2])))"
      ]
    },
    {
      "cell_type": "code",
      "execution_count": null,
      "metadata": {
        "id": "mzU7hAP_d1X-"
      },
      "outputs": [],
      "source": [
        "def Dixon_Price(x0):\n",
        "  d = x0.size\n",
        "  S = 0\n",
        "  for i in range(1,d):\n",
        "    S = S + (i+1)*(2*x0[i]*x0[i] - x0[i-1])**2\n",
        "  return (x0[0]-1)**2 + S\n",
        "\n",
        "#print(Dixon_Price(np.array([0.38334732 -6.92890603])))"
      ]
    },
    {
      "cell_type": "code",
      "execution_count": null,
      "metadata": {
        "id": "sKWN8pFBaQwE"
      },
      "outputs": [],
      "source": [
        "def Rosenbrock(x0):\n",
        "  d = x0.size\n",
        "  S = 0\n",
        "  for i in range(0,d-1):\n",
        "    S = S + 100*(x0[i+1] - x0[i]**2)**2 + (x0[i]-1)**2\n",
        "  return S\n"
      ]
    },
    {
      "cell_type": "code",
      "execution_count": null,
      "metadata": {
        "id": "U3E9qQ46dn0B"
      },
      "outputs": [],
      "source": [
        "#since the i range we are using is 0,..,d-1 and the i range the function is using is 1,..,d, instead of 4i calculate 4(i+1)-1\n",
        "def Powell(x0):\n",
        "  d = x0.size\n",
        "  S = 0\n",
        "  for i in range(d//4):\n",
        "    S = S + (x0[4*i] + 10*x0[4*i+1])**2 + 5*(x0[4*i+2] - x0[4*i+3])**2 + (x0[4*i+1] - 2*x0[4*i+2])**4 + 10*(x0[4*i] - x0[4*i+3])**4\n",
        "  return S\n",
        "\n"
      ]
    },
    {
      "cell_type": "code",
      "execution_count": null,
      "metadata": {
        "id": "QpLbteznuWYj"
      },
      "outputs": [],
      "source": [
        "def Styblinski_Tang(x0):\n",
        "  d = x0.size\n",
        "  S = 0\n",
        "  for i in range(d):\n",
        "    S = S + x0[i]**4 - 16*(x0[i]**2) +5*x0[i]\n",
        "  return 0.5*S"
      ]
    },
    {
      "cell_type": "code",
      "execution_count": null,
      "metadata": {
        "id": "Zz2f_527A-1d"
      },
      "outputs": [],
      "source": [
        "#convex\n",
        "#def LogSumExp (x0):\n",
        "#  d = x0.size\n",
        "#  S = 0\n",
        "#  for i in range(d):\n",
        "#    S = S + math.exp(x0[i])\n",
        "\n",
        "#  return math.log10(S)\n"
      ]
    },
    {
      "cell_type": "code",
      "execution_count": null,
      "metadata": {
        "id": "Rlj0XMZJzt_t"
      },
      "outputs": [],
      "source": [
        "#convex\n",
        "def Euclidean_Norm(x0):\n",
        "  return math.sqrt(x0@x0.T)\n",
        "\n",
        "#print (Euclidean_Norm(np.array([2, 2, 2, 2])))"
      ]
    },
    {
      "cell_type": "code",
      "execution_count": null,
      "metadata": {
        "id": "xdyfPND23NE6"
      },
      "outputs": [],
      "source": [
        "#convex\n",
        "def P_Norm(x0, P=5):\n",
        "  d = x0.size\n",
        "  S = 0\n",
        "  for i in range(d):\n",
        "    S = S + (abs(x0[i]))**P\n",
        "  return (np.sum(S))**(1/P)"
      ]
    }
  ]
}